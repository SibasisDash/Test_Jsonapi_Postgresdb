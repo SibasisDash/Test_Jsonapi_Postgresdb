{
 "cells": [
  {
   "cell_type": "code",
   "execution_count": 2,
   "metadata": {},
   "outputs": [
    {
     "name": "stdout",
     "output_type": "stream",
     "text": [
      "Collecting benedict\n",
      "  Downloading BeneDict-0.3.2-py3-none-any.whl (9.6 kB)\n",
      "Requirement already satisfied: pyyaml in c:\\users\\user\\anaconda3\\lib\\site-packages (from benedict) (5.3)\n",
      "Installing collected packages: benedict\n",
      "Successfully installed benedict-0.3.2\n"
     ]
    }
   ],
   "source": [
    "!pip install benedict"
   ]
  },
  {
   "cell_type": "code",
   "execution_count": 4,
   "metadata": {},
   "outputs": [
    {
     "data": {
      "text/plain": [
       "array(['EUR'], dtype=object)"
      ]
     },
     "execution_count": 4,
     "metadata": {},
     "output_type": "execute_result"
    }
   ],
   "source": [
    "import pandas as pd\n",
    "#from benedict import benedict\n",
    "df = pd.read_json('data.json')\n",
    "\n",
    "df['base'].unique()"
   ]
  },
  {
   "cell_type": "code",
   "execution_count": 5,
   "metadata": {
    "pycharm": {
     "name": "#%%\n"
    }
   },
   "outputs": [
    {
     "data": {
      "text/html": [
       "<div>\n",
       "<style scoped>\n",
       "    .dataframe tbody tr th:only-of-type {\n",
       "        vertical-align: middle;\n",
       "    }\n",
       "\n",
       "    .dataframe tbody tr th {\n",
       "        vertical-align: top;\n",
       "    }\n",
       "\n",
       "    .dataframe thead th {\n",
       "        text-align: right;\n",
       "    }\n",
       "</style>\n",
       "<table border=\"1\" class=\"dataframe\">\n",
       "  <thead>\n",
       "    <tr style=\"text-align: right;\">\n",
       "      <th></th>\n",
       "      <th>start_at</th>\n",
       "      <th>base</th>\n",
       "      <th>rates</th>\n",
       "      <th>end_at</th>\n",
       "    </tr>\n",
       "  </thead>\n",
       "  <tbody>\n",
       "    <tr>\n",
       "      <th>2018-01-02</th>\n",
       "      <td>2018-01-01</td>\n",
       "      <td>EUR</td>\n",
       "      <td>{'USD': 1.2065000000000001, 'IDR': 16266.03, '...</td>\n",
       "      <td>2020-10-29</td>\n",
       "    </tr>\n",
       "    <tr>\n",
       "      <th>2018-01-03</th>\n",
       "      <td>2018-01-01</td>\n",
       "      <td>EUR</td>\n",
       "      <td>{'USD': 1.2023, 'IDR': 16176.95, 'BGN': 1.9558...</td>\n",
       "      <td>2020-10-29</td>\n",
       "    </tr>\n",
       "    <tr>\n",
       "      <th>2018-01-04</th>\n",
       "      <td>2018-01-01</td>\n",
       "      <td>EUR</td>\n",
       "      <td>{'USD': 1.2065000000000001, 'IDR': 16191.23, '...</td>\n",
       "      <td>2020-10-29</td>\n",
       "    </tr>\n",
       "    <tr>\n",
       "      <th>2018-01-05</th>\n",
       "      <td>2018-01-01</td>\n",
       "      <td>EUR</td>\n",
       "      <td>{'USD': 1.2045, 'IDR': 16164.39, 'BGN': 1.9558...</td>\n",
       "      <td>2020-10-29</td>\n",
       "    </tr>\n",
       "    <tr>\n",
       "      <th>2018-01-08</th>\n",
       "      <td>2018-01-01</td>\n",
       "      <td>EUR</td>\n",
       "      <td>{'USD': 1.1973, 'IDR': 16084.83, 'BGN': 1.9558...</td>\n",
       "      <td>2020-10-29</td>\n",
       "    </tr>\n",
       "  </tbody>\n",
       "</table>\n",
       "</div>"
      ],
      "text/plain": [
       "             start_at base                                              rates  \\\n",
       "2018-01-02 2018-01-01  EUR  {'USD': 1.2065000000000001, 'IDR': 16266.03, '...   \n",
       "2018-01-03 2018-01-01  EUR  {'USD': 1.2023, 'IDR': 16176.95, 'BGN': 1.9558...   \n",
       "2018-01-04 2018-01-01  EUR  {'USD': 1.2065000000000001, 'IDR': 16191.23, '...   \n",
       "2018-01-05 2018-01-01  EUR  {'USD': 1.2045, 'IDR': 16164.39, 'BGN': 1.9558...   \n",
       "2018-01-08 2018-01-01  EUR  {'USD': 1.1973, 'IDR': 16084.83, 'BGN': 1.9558...   \n",
       "\n",
       "               end_at  \n",
       "2018-01-02 2020-10-29  \n",
       "2018-01-03 2020-10-29  \n",
       "2018-01-04 2020-10-29  \n",
       "2018-01-05 2020-10-29  \n",
       "2018-01-08 2020-10-29  "
      ]
     },
     "execution_count": 5,
     "metadata": {},
     "output_type": "execute_result"
    }
   ],
   "source": [
    "df.head()"
   ]
  },
  {
   "cell_type": "code",
   "execution_count": 6,
   "metadata": {
    "pycharm": {
     "name": "#%%\n"
    }
   },
   "outputs": [
    {
     "data": {
      "text/plain": [
       "{'USD': 1.2023,\n",
       " 'IDR': 16176.95,\n",
       " 'BGN': 1.9558,\n",
       " 'ILS': 4.1588,\n",
       " 'GBP': 0.8864000000000001,\n",
       " 'DKK': 7.4442,\n",
       " 'CAD': 1.5047000000000001,\n",
       " 'MXN': 23.3835,\n",
       " 'HUF': 309.29,\n",
       " 'RON': 4.6355,\n",
       " 'MYR': 4.8272,\n",
       " 'SEK': 9.825,\n",
       " 'SGD': 1.5988,\n",
       " 'HKD': 9.3985,\n",
       " 'AUD': 1.5339,\n",
       " 'CHF': 1.1736,\n",
       " 'KRW': 1281.39,\n",
       " 'CNY': 7.8168,\n",
       " 'TRY': 4.5303,\n",
       " 'HRK': 7.441,\n",
       " 'NZD': 1.6942,\n",
       " 'THB': 39.11,\n",
       " 'NOK': 9.744,\n",
       " 'RUB': 69.0962,\n",
       " 'INR': 76.3455,\n",
       " 'JPY': 134.97,\n",
       " 'CZK': 25.545,\n",
       " 'BRL': 3.9236,\n",
       " 'PLN': 4.1652000000000005,\n",
       " 'PHP': 59.988,\n",
       " 'ZAR': 14.8845}"
      ]
     },
     "execution_count": 6,
     "metadata": {},
     "output_type": "execute_result"
    }
   ],
   "source": [
    "df['rates'][1]\n",
    "\n",
    "#df['rates_1'] = benedict(df['rates']).subset(keys=[ 'USD', 'JPY', 'CAD', 'GBP', 'NZD','IND'\n",
    "#])"
   ]
  },
  {
   "cell_type": "code",
   "execution_count": null,
   "metadata": {
    "pycharm": {
     "name": "#%%\n"
    }
   },
   "outputs": [],
   "source": [
    "your_key = ['']\n",
    "dict_you_want = { your_key: df['rates'][your_key] for your_key in your_keys }"
   ]
  }
 ],
 "metadata": {
  "kernelspec": {
   "display_name": "Python 3",
   "language": "python",
   "name": "python3"
  },
  "language_info": {
   "codemirror_mode": {
    "name": "ipython",
    "version": 3
   },
   "file_extension": ".py",
   "mimetype": "text/x-python",
   "name": "python",
   "nbconvert_exporter": "python",
   "pygments_lexer": "ipython3",
   "version": "3.7.6"
  }
 },
 "nbformat": 4,
 "nbformat_minor": 1
}
